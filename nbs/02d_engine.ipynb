{
 "cells": [
  {
   "cell_type": "code",
   "execution_count": null,
   "metadata": {},
   "outputs": [],
   "source": [
    "#|default_exp engine"
   ]
  },
  {
   "cell_type": "markdown",
   "metadata": {},
   "source": [
    "# Engine\n",
    "\n",
    "> Game engine, main simulator"
   ]
  },
  {
   "cell_type": "code",
   "execution_count": null,
   "metadata": {},
   "outputs": [],
   "source": [
    "%load_ext autoreload\n",
    "%autoreload 2"
   ]
  },
  {
   "cell_type": "code",
   "execution_count": null,
   "metadata": {},
   "outputs": [],
   "source": [
    "#| hide\n",
    "from nbdev.showdoc import *"
   ]
  },
  {
   "cell_type": "code",
   "execution_count": null,
   "metadata": {},
   "outputs": [
    {
     "name": "stderr",
     "output_type": "stream",
     "text": [
      "/home/lgvaz/miniconda3/envs/truco/lib/python3.10/site-packages/polvo/utils/logging.py:8: TqdmExperimentalWarning: Using `tqdm.autonotebook.tqdm` in notebook mode. Use `tqdm.tqdm` instead to force console mode (e.g. in jupyter console)\n",
      "  from tqdm.autonotebook import tqdm\n"
     ]
    }
   ],
   "source": [
    "#|export\n",
    "from fastcore.all import *\n",
    "import polvo as pv\n",
    "import truco as tr\n",
    "import numpy as np\n",
    "import random\n",
    "from copy import deepcopy\n",
    "from collections import deque"
   ]
  },
  {
   "cell_type": "code",
   "execution_count": null,
   "metadata": {},
   "outputs": [],
   "source": [
    "#|export\n",
    "class Player:\n",
    "    def __init__(self, team): \n",
    "        self.team, self.hand = team, []\n",
    "        self.team_sign = dict(t1=1, t2=-1)[team]\n",
    "    def new_hand(self, hand): self.hand = hand\n",
    "    def __repr__(self): return f'Player {self.team}: {self.hand}'\n",
    "    def play_card(self, turn_cards): \n",
    "        ..."
   ]
  },
  {
   "cell_type": "code",
   "execution_count": null,
   "metadata": {},
   "outputs": [],
   "source": [
    "#|export\n",
    "class HumanPlayer(Player):\n",
    "    def play_card(self, turn_cards):\n",
    "        card = input(f'Table: {turn_cards} | Hand: {self.hand}')\n",
    "        self.hand.remove(card)\n",
    "        return card"
   ]
  },
  {
   "cell_type": "code",
   "execution_count": null,
   "metadata": {},
   "outputs": [],
   "source": [
    "#|export\n",
    "class BotPlayer(Player):\n",
    "    def play_card(self, turn_cards):\n",
    "        return self.hand.pop(0)"
   ]
  },
  {
   "cell_type": "code",
   "execution_count": null,
   "metadata": {},
   "outputs": [],
   "source": [
    "#|export\n",
    "class FixedOrderBotPlayer(Player):\n",
    "    def __init__(self, team, order):\n",
    "        self.order = np.array(order)\n",
    "        super().__init__(team=team)\n",
    "        \n",
    "    def play_card(self, turn_cards):\n",
    "        idx, self.order = self.order[0], self.order[1:]\n",
    "        self.order[self.order>idx] -= 1 # Adjust index for cards that were after current one being popped\n",
    "        return self.hand.pop(idx)"
   ]
  },
  {
   "cell_type": "code",
   "execution_count": null,
   "metadata": {},
   "outputs": [],
   "source": [
    "bot = FixedOrderBotPlayer('t1', [2, 1, 0])\n",
    "bot.new_hand('qs js ks'.split())\n",
    "test_eq(bot.play_card([]), 'ks')\n",
    "test_eq(bot.play_card([]), 'js')\n",
    "test_eq(bot.play_card([]), 'qs')"
   ]
  },
  {
   "cell_type": "code",
   "execution_count": null,
   "metadata": {},
   "outputs": [],
   "source": [
    "bot = FixedOrderBotPlayer('t1', [1, 2, 0])\n",
    "bot.new_hand('qs js ks'.split())\n",
    "test_eq(bot.play_card([]), 'js')\n",
    "test_eq(bot.play_card([]), 'ks')\n",
    "test_eq(bot.play_card([]), 'qs')"
   ]
  },
  {
   "cell_type": "code",
   "execution_count": null,
   "metadata": {},
   "outputs": [],
   "source": [
    "#|export\n",
    "def turn_finish(turn_cards, player_order, round_rank):\n",
    "    ranks = tr.cards2ranks(turn_cards, round_rank)\n",
    "    # necessary to get 0 if two cards of the same rank are played\n",
    "    winners_mask = ranks==ranks.max()\n",
    "    turn_score = sum(set([p.team_sign for p, w in zip (player_order, winners_mask) if w]))\n",
    "\n",
    "    rotation = np.argwhere(winners_mask).flatten()[-1]\n",
    "    if sum(winners_mask)>1: rotation += 1\n",
    "    \n",
    "    return turn_score, -rotation"
   ]
  },
  {
   "cell_type": "code",
   "execution_count": null,
   "metadata": {},
   "outputs": [],
   "source": [
    "p11, p12 = FixedOrderBotPlayer('t1', [1, 0, 2]), BotPlayer('t1')\n",
    "p21, p22 = BotPlayer('t2'), FixedOrderBotPlayer('t2', [2, 1, 0])"
   ]
  },
  {
   "cell_type": "code",
   "execution_count": null,
   "metadata": {},
   "outputs": [],
   "source": [
    "faceup = '4d'"
   ]
  },
  {
   "cell_type": "code",
   "execution_count": null,
   "metadata": {},
   "outputs": [],
   "source": [
    "p11.new_hand('5d 3h qs'.split())\n",
    "p12.new_hand('6s 6h 4s'.split())"
   ]
  },
  {
   "cell_type": "code",
   "execution_count": null,
   "metadata": {},
   "outputs": [],
   "source": [
    "round_rank = tr.round_rank(faceup)\n",
    "round_card_pool = tr.round_card_pool(p11.hand+p12.hand, faceup)"
   ]
  },
  {
   "cell_type": "code",
   "execution_count": null,
   "metadata": {},
   "outputs": [],
   "source": [
    "t2_hand = random.sample(round_card_pool, 6)\n",
    "p21.new_hand(t2_hand[:3])\n",
    "p22.new_hand(t2_hand[3:])"
   ]
  },
  {
   "cell_type": "code",
   "execution_count": null,
   "metadata": {},
   "outputs": [],
   "source": [
    "r = turn_finish('3h 3s 4s 7c'.split(), [p11, p21, p12, p22], tr.round_rank('5c'))\n",
    "test_eq(r, (0, -2))"
   ]
  },
  {
   "cell_type": "code",
   "execution_count": null,
   "metadata": {},
   "outputs": [],
   "source": [
    "r = turn_finish('3h as 4s 7c'.split(), [p11, p21, p12, p22], tr.round_rank('5c'))\n",
    "test_eq(r, (1, 0))"
   ]
  },
  {
   "cell_type": "code",
   "execution_count": null,
   "metadata": {},
   "outputs": [],
   "source": [
    "r = turn_finish('ah 2s 4s 7c'.split(), [p11, p21, p12, p22], tr.round_rank('5c'))\n",
    "test_eq(r, (-1, -1))"
   ]
  },
  {
   "cell_type": "code",
   "execution_count": null,
   "metadata": {},
   "outputs": [],
   "source": [
    "r = turn_finish('ah 2s 6s 6c'.split(), [p11, p21, p12, p22], tr.round_rank('5c'))\n",
    "test_eq(r, (-1, -3))"
   ]
  },
  {
   "cell_type": "code",
   "execution_count": null,
   "metadata": {},
   "outputs": [],
   "source": [
    "#|export\n",
    "def calculate_round_score(turn_scores):\n",
    "    ts = np.asarray(turn_scores)\n",
    "    nonzero_idx = np.nonzero(ts)[0]\n",
    "    if nonzero_idx.size > 0: ts[ts==0] = ts[nonzero_idx[0]]\n",
    "    return sum(ts)"
   ]
  },
  {
   "cell_type": "code",
   "execution_count": null,
   "metadata": {},
   "outputs": [],
   "source": [
    "test_eq(calculate_round_score([0, -1, 1]), -1)\n",
    "test_eq(calculate_round_score([-1, -1, 1]), -1)\n",
    "test_eq(calculate_round_score([1, 0, -1]), 1)\n",
    "test_eq(calculate_round_score([1, 0, 1]), 3)"
   ]
  },
  {
   "cell_type": "code",
   "execution_count": null,
   "metadata": {},
   "outputs": [],
   "source": [
    "#|export\n",
    "# TODO: I want to remove class methods and make it functional\n",
    "class RoundManager:\n",
    "    def __init__(self, p11, p12, p21, p22):\n",
    "        self.p11, self.p12, self.p21, self.p22 = map(deepcopy, (p11, p12, p21, p22))\n",
    "        \n",
    "        # TODO: Dynamic\n",
    "        self.player_order = deque([self.p11, self.p21, self.p12, self.p22])\n",
    "        \n",
    "    def new_round(self):\n",
    "        self.score = []\n",
    "        self.history = []\n",
    "        \n",
    "    def play_turn(self, round_rank):\n",
    "        turn_cards = {}\n",
    "        for p in self.player_order:\n",
    "            card = p.play_card(turn_cards)\n",
    "            turn_cards[p] = card\n",
    "            self.history.append((p.team, card))\n",
    "        turn_score, rotation = turn_finish(turn_cards.values(), self.player_order, round_rank)\n",
    "        self.score.append(turn_score)\n",
    "        self.player_order.rotate(rotation)\n",
    "            \n",
    "    def play_round(self, round_rank):\n",
    "        self.new_round()\n",
    "        for _ in range(3): self.play_turn(round_rank)\n",
    "        return calculate_round_score(self.score)"
   ]
  },
  {
   "cell_type": "code",
   "execution_count": null,
   "metadata": {},
   "outputs": [
    {
     "data": {
      "text/plain": [
       "1"
      ]
     },
     "execution_count": null,
     "metadata": {},
     "output_type": "execute_result"
    }
   ],
   "source": [
    "rm = RoundManager(p11, p12, p21, p22)\n",
    "rm.play_round(round_rank)"
   ]
  },
  {
   "cell_type": "code",
   "execution_count": null,
   "metadata": {},
   "outputs": [],
   "source": [
    "#| hide\n",
    "import nbdev; nbdev.nbdev_export()"
   ]
  }
 ],
 "metadata": {
  "kernelspec": {
   "display_name": "Python [conda env:truco]",
   "language": "python",
   "name": "conda-env-truco-py"
  }
 },
 "nbformat": 4,
 "nbformat_minor": 4
}
