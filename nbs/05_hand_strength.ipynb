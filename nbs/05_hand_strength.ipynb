{
 "cells": [
  {
   "cell_type": "markdown",
   "metadata": {},
   "source": [
    "# hand_strength\n",
    "\n",
    "> Fill in a module description here"
   ]
  },
  {
   "cell_type": "code",
   "execution_count": null,
   "metadata": {},
   "outputs": [],
   "source": [
    "#|default_exp hand_strength"
   ]
  },
  {
   "cell_type": "code",
   "execution_count": null,
   "metadata": {},
   "outputs": [],
   "source": [
    "%load_ext autoreload\n",
    "%autoreload 2"
   ]
  },
  {
   "cell_type": "code",
   "execution_count": null,
   "metadata": {},
   "outputs": [],
   "source": [
    "#| hide\n",
    "from nbdev.showdoc import *"
   ]
  },
  {
   "cell_type": "code",
   "execution_count": null,
   "metadata": {},
   "outputs": [
    {
     "name": "stderr",
     "output_type": "stream",
     "text": [
      "/home/lgvaz/miniconda3/envs/truco/lib/python3.10/site-packages/polvo/utils/logging.py:8: TqdmExperimentalWarning: Using `tqdm.autonotebook.tqdm` in notebook mode. Use `tqdm.tqdm` instead to force console mode (e.g. in jupyter console)\n",
      "  from tqdm.autonotebook import tqdm\n"
     ]
    }
   ],
   "source": [
    "#|export\n",
    "from fastcore.all import *\n",
    "import polvo as pv\n",
    "import truco as tr\n",
    "import numpy as np\n",
    "import random"
   ]
  },
  {
   "cell_type": "code",
   "execution_count": null,
   "metadata": {},
   "outputs": [],
   "source": [
    "#|export\n",
    "def compare(hand1, hand2, round_rank):\n",
    "    ranks1 = tr.cards2ranks(hand1, round_rank)\n",
    "    ranks2 = tr.cards2ranks(hand2, round_rank)\n",
    "    ranks1 = np.sort(ranks1)[-1:-4:-1]\n",
    "    ranks2 = np.sort(ranks2)[-1:-4:-1]\n",
    "    return (ranks1 - ranks2)"
   ]
  },
  {
   "cell_type": "code",
   "execution_count": null,
   "metadata": {},
   "outputs": [],
   "source": [
    "#|export\n",
    "def simulate(hand, round_rank, card_pool):\n",
    "    hand2 = random.sample(card_pool, 6)\n",
    "    return compare(hand, hand2, round_rank)"
   ]
  },
  {
   "cell_type": "code",
   "execution_count": null,
   "metadata": {},
   "outputs": [],
   "source": [
    "#|export\n",
    "class TaskWrapper:\n",
    "    def __init__(self, fn, *args, **kwargs):\n",
    "        self.fn, self.args, self.kwargs = fn, args, kwargs\n",
    "        \n",
    "    def __call__(self, _):\n",
    "        return self.fn(*self.args, **self.kwargs)"
   ]
  },
  {
   "cell_type": "code",
   "execution_count": null,
   "metadata": {},
   "outputs": [],
   "source": [
    "#|export\n",
    "def monte_carlo(hand, round_rank, card_pool, n_simulations):\n",
    "    return np.array(parallel(TaskWrapper(simulate, hand, round_rank, card_pool), range(n_simulations)))"
   ]
  },
  {
   "cell_type": "code",
   "execution_count": null,
   "metadata": {},
   "outputs": [],
   "source": [
    "#|export\n",
    "def hand_stregth(hand, faceup, n_simulations=2000):\n",
    "    card_pool = tr.round_card_pool(hand, faceup)\n",
    "    round_rank = tr.round_rank(faceup)\n",
    "    \n",
    "    results = monte_carlo(hand, round_rank, card_pool, n_simulations)\n",
    "    results_sign = np.sign(results)\n",
    "    wins = np.sign(results_sign.sum(axis=1))\n",
    "    score, counts = np.unique(wins, return_counts=True)\n",
    "    return {s: c/len(results) for s, c in zip(score, counts)}"
   ]
  },
  {
   "cell_type": "code",
   "execution_count": null,
   "metadata": {},
   "outputs": [],
   "source": [
    "hand = '5d 3h qs'.split()\n",
    "faceup = '4d'"
   ]
  },
  {
   "cell_type": "code",
   "execution_count": null,
   "metadata": {},
   "outputs": [
    {
     "data": {
      "text/plain": [
       "{-1: 0.402, 0: 0.063, 1: 0.535}"
      ]
     },
     "execution_count": null,
     "metadata": {},
     "output_type": "execute_result"
    }
   ],
   "source": [
    "hand_stregth(hand, faceup)"
   ]
  },
  {
   "cell_type": "code",
   "execution_count": null,
   "metadata": {},
   "outputs": [],
   "source": [
    "#| hide\n",
    "import nbdev; nbdev.nbdev_export()"
   ]
  }
 ],
 "metadata": {
  "kernelspec": {
   "display_name": "Python [conda env:truco]",
   "language": "python",
   "name": "conda-env-truco-py"
  }
 },
 "nbformat": 4,
 "nbformat_minor": 4
}
