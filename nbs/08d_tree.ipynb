{
 "cells": [
  {
   "cell_type": "code",
   "execution_count": null,
   "metadata": {},
   "outputs": [],
   "source": [
    "#|default_exp tree"
   ]
  },
  {
   "cell_type": "markdown",
   "metadata": {},
   "source": [
    "# Game tree\n",
    "\n",
    "> Fill in a module description here"
   ]
  },
  {
   "cell_type": "code",
   "execution_count": null,
   "metadata": {},
   "outputs": [],
   "source": [
    "%load_ext autoreload\n",
    "%autoreload 2"
   ]
  },
  {
   "cell_type": "code",
   "execution_count": null,
   "metadata": {},
   "outputs": [],
   "source": [
    "#| hide\n",
    "from nbdev.showdoc import *"
   ]
  },
  {
   "cell_type": "code",
   "execution_count": null,
   "metadata": {},
   "outputs": [
    {
     "name": "stderr",
     "output_type": "stream",
     "text": [
      "/home/lgvaz/miniconda3/envs/truco/lib/python3.10/site-packages/polvo/utils/logging.py:8: TqdmExperimentalWarning: Using `tqdm.autonotebook.tqdm` in notebook mode. Use `tqdm.tqdm` instead to force console mode (e.g. in jupyter console)\n",
      "  from tqdm.autonotebook import tqdm\n"
     ]
    }
   ],
   "source": [
    "#|export\n",
    "from fastcore.all import *\n",
    "import polvo as pv\n",
    "import truco as tr\n",
    "import numpy as np\n",
    "import graphviz"
   ]
  },
  {
   "cell_type": "code",
   "execution_count": null,
   "metadata": {},
   "outputs": [],
   "source": [
    "#|export\n",
    "def get_bots(round_rank, hand11, hand12, hand21, hand22):\n",
    "    round_card_pool = tr.round_card_pool(hand11+hand12+hand21+hand22, faceup)\n",
    "    \n",
    "    round_orders = list(itertools.product(itertools.permutations([0,1,2]), repeat=4))\n",
    "    all_bots = []\n",
    "    for round_order in round_orders:\n",
    "        bots = [tr.FixedOrderBotPlayer(t, o) for o, t in zip(round_order, 't1 t1 t2 t2'.split())]\n",
    "        [b.new_hand(h) for b, h in zip(bots, (hand11, hand12, hand21, hand22))]\n",
    "        all_bots.append(bots)\n",
    "    return all_bots"
   ]
  },
  {
   "cell_type": "code",
   "execution_count": null,
   "metadata": {},
   "outputs": [],
   "source": [
    "#|export\n",
    "def one_round(bots, round_rank): \n",
    "    rm = tr.RoundManager(*bots)\n",
    "    result = rm.play_round(round_rank)\n",
    "    return result, rm.history"
   ]
  },
  {
   "cell_type": "code",
   "execution_count": null,
   "metadata": {},
   "outputs": [],
   "source": [
    "faceup = '4s'\n",
    "round_rank = tr.round_rank(faceup)\n",
    "bots = get_bots(round_rank, '7s 3c qh'.split(), '5s kh 2s'.split(), '5d 2h ac'.split(), '3d 2c 2d'.split())"
   ]
  },
  {
   "cell_type": "code",
   "execution_count": null,
   "metadata": {},
   "outputs": [],
   "source": [
    "results = parallel(partial(one_round, round_rank=round_rank), bots)"
   ]
  },
  {
   "cell_type": "code",
   "execution_count": null,
   "metadata": {},
   "outputs": [],
   "source": [
    "#|export\n",
    "class Node:\n",
    "    def __init__(self, value):\n",
    "        self.value = value\n",
    "        self.children = []\n",
    "        self.score = None\n",
    "        self.team = self.value.split('-')[0] # HACK for now\n",
    "        \n",
    "    def __repr__(self):\n",
    "        return f'Node {self.value} with {len(self.children)} children'\n",
    "\n",
    "    def dot(self, dot=None):\n",
    "        if self.score is None: minimax(self)\n",
    "        dot = dot or graphviz.Digraph(comment=\"A graph\", format=\"svg\")\n",
    "        dot.node(str(id(self)), f'{self.score} | {self.value}')\n",
    "        for c in self.children:\n",
    "            c.dot(dot=dot)\n",
    "#             dot.edge(str(id(self)), str(id(c)), label=c.value)\n",
    "            dot.edge(str(id(self)), str(id(c)))\n",
    "        return dot\n",
    "    \n",
    "    def render(self): return self.dot().render('digraph.gv', view=True)  "
   ]
  },
  {
   "cell_type": "code",
   "execution_count": null,
   "metadata": {},
   "outputs": [],
   "source": [
    "#|export\n",
    "def add_value(root, values):\n",
    "    v, v_ = values[0], values[1:]\n",
    "    if v_ is []: return root.children.append(Node(v))\n",
    "        \n",
    "    for c in root.children: \n",
    "        if c.value == v: add_value(c, v_)\n",
    "    else: return root.children.append(Node(v))"
   ]
  },
  {
   "cell_type": "code",
   "execution_count": null,
   "metadata": {},
   "outputs": [],
   "source": [
    "#|export\n",
    "def add_branch(root, values):\n",
    "    v, v_ = values[0], values[1:]\n",
    "    # add children if doesn't exist\n",
    "    for c in root.children:\n",
    "        if c.value == v: break\n",
    "    else: \n",
    "        c = Node(v)\n",
    "        root.children.append(c)\n",
    "        \n",
    "    if not v_: return c # Last addition\n",
    "    return add_branch(c, v_)"
   ]
  },
  {
   "cell_type": "code",
   "execution_count": null,
   "metadata": {},
   "outputs": [],
   "source": [
    "#|export\n",
    "def minimax(root):\n",
    "    if root.score is not None: return root.score\n",
    "    scores = [minimax(c) for c in root.children]\n",
    "    operation = dict(t1=max, t2=min)[root.children[0].team]\n",
    "    root.score = operation(scores)\n",
    "    return root.score"
   ]
  },
  {
   "cell_type": "code",
   "execution_count": null,
   "metadata": {},
   "outputs": [],
   "source": [
    "faceup = '4s'\n",
    "round_rank = tr.round_rank(faceup)\n",
    "bots = get_bots(round_rank, '7s 3c qh'.split(), '5s kh 2s'.split(), '5d 2h ac'.split(), '3d 2c 2d'.split())"
   ]
  },
  {
   "cell_type": "code",
   "execution_count": null,
   "metadata": {},
   "outputs": [],
   "source": [
    "results = parallel(partial(one_round, round_rank=round_rank), bots)"
   ]
  },
  {
   "cell_type": "code",
   "execution_count": null,
   "metadata": {},
   "outputs": [],
   "source": [
    "#|export\n",
    "def _round_tree(results):\n",
    "    root = Node('t1')\n",
    "    for score, hist in results:\n",
    "        node = add_branch(root, ['-'.join(o) for o in hist])\n",
    "        node.score = score\n",
    "    return root"
   ]
  },
  {
   "cell_type": "code",
   "execution_count": null,
   "metadata": {},
   "outputs": [],
   "source": [
    "#|export\n",
    "def create_hands(*hands): return [h.split() for h in hands]"
   ]
  },
  {
   "cell_type": "code",
   "execution_count": null,
   "metadata": {},
   "outputs": [],
   "source": [
    "#|export\n",
    "def round_tree(faceup, *hands):\n",
    "    bots= get_bots(round_rank, *hands)\n",
    "    results = parallel(partial(one_round, round_rank=round_rank), bots)\n",
    "    return _round_tree(results)"
   ]
  },
  {
   "cell_type": "code",
   "execution_count": null,
   "metadata": {},
   "outputs": [],
   "source": [
    "faceup = '4s'\n",
    "hands = create_hands('7s 3c qh', '5s kh 2s', '5d 2h ac', '3d 2c 2d')\n",
    "tree = round_tree(faceup, *hands)"
   ]
  },
  {
   "cell_type": "code",
   "execution_count": null,
   "metadata": {},
   "outputs": [
    {
     "data": {
      "text/plain": [
       "'digraph.gv.svg'"
      ]
     },
     "execution_count": null,
     "metadata": {},
     "output_type": "execute_result"
    }
   ],
   "source": [
    "tree.render()"
   ]
  },
  {
   "cell_type": "code",
   "execution_count": null,
   "metadata": {},
   "outputs": [],
   "source": [
    "#| hide\n",
    "import nbdev; nbdev.nbdev_export()"
   ]
  }
 ],
 "metadata": {
  "kernelspec": {
   "display_name": "Python [conda env:truco]",
   "language": "python",
   "name": "conda-env-truco-py"
  }
 },
 "nbformat": 4,
 "nbformat_minor": 4
}
